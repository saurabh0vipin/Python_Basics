{
 "cells": [
  {
   "cell_type": "markdown",
   "metadata": {},
   "source": [
    "# Python Numbers"
   ]
  },
  {
   "cell_type": "code",
   "execution_count": 14,
   "metadata": {},
   "outputs": [
    {
     "name": "stdout",
     "output_type": "stream",
     "text": [
      "<class 'str'>\n",
      "123456\n",
      "<class 'int'>\n",
      "190\n",
      "4\n",
      "4\n",
      "416\n"
     ]
    }
   ],
   "source": [
    "i=\"123456\"  \n",
    "print(type(i))  \n",
    "num = int(i)  \n",
    "print(num)  \n",
    "print(type(num))  \n",
    "j = 190.98  \n",
    "print(int(j));\n",
    "print(0b100)\n",
    "print(0B100)\n",
    "print(0x1A0)"
   ]
  },
  {
   "cell_type": "markdown",
   "metadata": {},
   "source": [
    "# number functions"
   ]
  },
  {
   "cell_type": "code",
   "execution_count": 24,
   "metadata": {},
   "outputs": [
    {
     "name": "stdout",
     "output_type": "stream",
     "text": [
      "15241383936.0\n",
      "190.98\n",
      "191\n",
      "1\n",
      "123456\n"
     ]
    }
   ],
   "source": [
    "from math import *\n",
    "print(pow(num,2))\n",
    "print(abs(j))\n",
    "print(ceil(j))\n",
    "print(min(1,5,3,j,num))\n",
    "print(max(1,5,3,j,num))"
   ]
  },
  {
   "cell_type": "code",
   "execution_count": 50,
   "metadata": {
    "scrolled": true
   },
   "outputs": [
    {
     "name": "stdout",
     "output_type": "stream",
     "text": [
      "3\n",
      "6\n",
      "[1, 5, 0, 3, 2]\n"
     ]
    }
   ],
   "source": [
    "import random\n",
    "print(choice([0,1,2,3,5]))\n",
    "print(randrange(0,10,2))\n",
    "l=[0,1,2,3,5]\n",
    "shuffle(l)\n",
    "print(l)"
   ]
  },
  {
   "cell_type": "markdown",
   "metadata": {},
   "source": [
    "# Python String \n",
    "A string can only be replaced with a new string since its content can not be partially replaced. Strings are immutable in python. "
   ]
  },
  {
   "cell_type": "code",
   "execution_count": 64,
   "metadata": {},
   "outputs": [
    {
     "name": "stdout",
     "output_type": "stream",
     "text": [
      " \"Saurabh Verma\"  \"Saurabh Verma\" \n",
      " \"Saurabh Verma\"  \"Saurabh Verma\"  \"Saurabh Verma\" \n",
      "True\n",
      "False\n",
      "The string str :  \"Saurabh Verma\" \n"
     ]
    }
   ],
   "source": [
    "str=\" \\\"Saurabh Verma\\\" \"\n",
    "print(str+str)\n",
    "print(str*3)\n",
    "print(\"Ver\" in str)\n",
    "print(\"Ver\" not in str)\n",
    "print(\"The string str : %s\"%(str))"
   ]
  },
  {
   "cell_type": "markdown",
   "metadata": {},
   "source": [
    "# string functions"
   ]
  },
  {
   "cell_type": "code",
   "execution_count": 84,
   "metadata": {},
   "outputs": [
    {
     "name": "stdout",
     "output_type": "stream",
     "text": [
      "Saurabh verma\n",
      "2\n",
      "3\n",
      "False\n",
      "False\n",
      "13\n",
      "SAURABH VERMA\n",
      "['saurabh', 'verma']\n",
      "SAURABH VERMA\n",
      "b'saurabh verma'\n"
     ]
    }
   ],
   "source": [
    "str=\"saurabh verma\"\n",
    "print(str.capitalize())\n",
    "print(str.count(\"r\",));\n",
    "print(str.find(\"r\",0,))\n",
    "print(str.isdigit())\n",
    "print(str.isdecimal())\n",
    "print(len(str))\n",
    "print(str.upper())\n",
    "print(str.split(' ') )\n",
    "print(str.swapcase())\n",
    "print(str.encode())"
   ]
  },
  {
   "cell_type": "code",
   "execution_count": null,
   "metadata": {},
   "outputs": [],
   "source": []
  }
 ],
 "metadata": {
  "kernelspec": {
   "display_name": "Python 3",
   "language": "python",
   "name": "python3"
  },
  "language_info": {
   "codemirror_mode": {
    "name": "ipython",
    "version": 3
   },
   "file_extension": ".py",
   "mimetype": "text/x-python",
   "name": "python",
   "nbconvert_exporter": "python",
   "pygments_lexer": "ipython3",
   "version": "3.7.1"
  }
 },
 "nbformat": 4,
 "nbformat_minor": 2
}
